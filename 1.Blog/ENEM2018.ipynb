{
 "cells": [
  {
   "cell_type": "markdown",
   "metadata": {},
   "source": [
    "# ENEM 2018\n",
    "For this project, I will be using the dataset used in my [Capstone project](https://github.com/davidsondefaria/Capstone) of the Udacity Data Engineering course. Such dataset is composed of Brazilian demographic and educational data. In this course, I used the knowledge acquired to carry out the ETL process for the dataset.\n",
    "\n",
    "Now, starting the Data Science course, I will perform some analysis on this dataset. I intend to analyze the relationship between the grades obtained in ENEM, the *Exame Nacional do Ensino Médio* (in English 'High School National Exam', an application test for Universities) with the educational HDI of the Brazilian cities.\n",
    "\n",
    "## Imports"
   ]
  },
  {
   "cell_type": "code",
   "execution_count": 2,
   "metadata": {},
   "outputs": [],
   "source": [
    "import re\n",
    "import os\n",
    "import pandas as pd\n",
    "from treatData import treatCities, treatEnem"
   ]
  },
  {
   "cell_type": "markdown",
   "metadata": {},
   "source": [
    "## 1. Business Understanding\n",
    "In this project, I will be interested in analyzing some influences that localization can have on a student who is applying for university. Here are some questions to ask.\n",
    "1. Are the grades obtained in ENEM proportional to the educational HDI of the students' city?\n",
    "2. How can the type of school influence the grade?\n",
    "3. Is there any influence of other HDIs on the grade? (GNI or Life expectancy)\n",
    "4. Is there a difference in the grade of students who live in the same cities and who have a disability compared to those who do not?\n",
    "5. Does the color/race, gender or age of students influence their results or does the influence come from the place and situation in which they live? "
   ]
  },
  {
   "cell_type": "markdown",
   "metadata": {},
   "source": [
    "## 2. Data Understanding\n",
    "\n",
    "Two datasets of different bases were used:\n",
    "\n",
    "- [Brazil Cities](https://www.kaggle.com/crisparada/brazilian-cities): this dataset is a compilation of data on Brazilian cities taken from different websites. Although there are many interesting fields for analysis, the focus of the project is to prepare a basis for the analysis of HDI data.\n",
    "- [Enem2018](http://portal.inep.gov.br/web/guest/microdados): this dataset presents all the non-sensitive data of the students who took the ENEM 2018. Through it, we can analyze the grades of each student by city, by age, by financial conditions, if they have any disabilities and other specifics.\n",
    "\n",
    "### Source Files\n",
    "The files can be found in [Google Drive](https://drive.google.com/drive/folders/1BoA9AlCZWviPwzGHz71rrIgKCUXGHr2q).\n",
    "\n",
    "- `brazil_cities.csv`: Original dataset about cities.\n",
    "- `brazil_cities_dictionary.csv`: File with subtitles for the dataset columns. \n",
    "- `enem/enem_2018.csv`: Dataset about ENEM 2018. This dataset has previously been reduced its number of columns due to its size. But keeping the original name of the columns in Portuguese.\n",
    "- `enem/enem_2018_dictionary.csv` and `enem/enem_2018_dictionary.xlsx`: Both files have subtitles for ENEM columns. In Portuguese."
   ]
  },
  {
   "cell_type": "code",
   "execution_count": null,
   "metadata": {},
   "outputs": [],
   "source": [
    "enem_2018_path = os.getcwd() + '/data/enem2018/enem_2018.csv'\n",
    "brazil_cities_path = os.getcwd() + '/data/brazil_cities.csv'"
   ]
  },
  {
   "cell_type": "markdown",
   "metadata": {},
   "source": [
    "## 3. Prepare Data"
   ]
  },
  {
   "cell_type": "markdown",
   "metadata": {},
   "source": [
    "### Treating Data\n",
    "After the data is processed, they will have the following columns:\n",
    "\n",
    "##### Brazil Cities Columns Subtitles\n",
    "\n",
    "|   Columns   |               Legend                  |\n",
    "|-------------|---------------------------------------|\n",
    "|city         |Name of Cities                         |\n",
    "|state        |State of Cities                        |\n",
    "|capital      |Is State Capital?                      |\n",
    "|hdi_ranking  |Human Development Index Ranking        |\n",
    "|hdi          |Human Development Index                |\n",
    "|hdi_gni      |Human Development Index GNI per Capita |\n",
    "|hdi_life     |Human Development Index Life Expectancy|\n",
    "|hdi_education|Human Development Index Educational    |\n",
    "|longitude    |Longitude                              |\n",
    "|latitude     |Latitude                               |\n",
    "|altitude     |Altitude                               |\n",
    "\n",
    "##### Enem 2018 Columns Subtitles\n",
    "\n",
    "|         Columns           | Legend                       |         Columns        | Legend                         |\n",
    "|---------------------------|------------------------------|------------------------|--------------------------------|\n",
    "|registration               |Number of Registration        |def_dyslexia            |Is dyslexic?                    |\n",
    "|city_residence_code        |Code of Residence City        |def_dyscalculia         |Has dyscalculia?                |\n",
    "|city_residence             |Residence City                |def_autism              |Is autistic?                    |\n",
    "|state_residence_code       |Code of Residence State       |def_monocular_vision    |Has Monocular Vision?           |\n",
    "|state_residence            |Residence State               |def_other               |Has any Other Disability?       |\n",
    "|age                        |Age                           |social_name             |Social Name                     |\n",
    "|gender                     |Gender                        |city_test_code          |Code of Application City        |\n",
    "|matiral_status             |Marital Status                |city_test               |Application City                |\n",
    "|color_race                 |Color or Race                 |state_test_code         |Code of Application State       |\n",
    "|nationality                |Nationality                   |state_test              |Application State               |\n",
    "|high_school_status         |Has finished High School?     |presence_natural_science|Presence in Natural Science Test|\n",
    "|high_school_year_conclusion|Year of High School Conclusion|presence_human_science  |Presence in Human Science Test  |\n",
    "|school_type                |Type of High School           |presence_languages      |Presence in Languages Test      |\n",
    "|def_low_vision             |Has Low Vision Deficiency?    |presence_math           |Presence in Math Test           |\n",
    "|def_blind                  |Is Blind?                     |grade_natural_science   |Grade in Natural Science Test   |\n",
    "|def_deaf                   |Is Deaf?                      |grade_human_science     |Grade in Human Science Test     |\n",
    "|def_low_hearing            |Has Low Hearing Deficiency?   |grade_languages         |Grade in Languages Test         |\n",
    "|def_blind_deaf             |Is Blind and Deaf?            |grade_math              |Grade in Math Test              |\n",
    "|def_physical               |Has Physical Deficiency?      |essay_status            |Essay Status                    |\n",
    "|def_mental                 |Has Mental Deficiency?        |grade_essay             |Grade in Essay                  |"
   ]
  },
  {
   "cell_type": "code",
   "execution_count": 3,
   "metadata": {},
   "outputs": [],
   "source": [
    "\n",
    "\n",
    "# treatEnem(enem_2018_path)\n",
    "# treatCities(brazil_cities_path)"
   ]
  },
  {
   "cell_type": "markdown",
   "metadata": {},
   "source": [
    "## 4. Data Model"
   ]
  },
  {
   "cell_type": "markdown",
   "metadata": {},
   "source": [
    "## 5. Evaluate the Results"
   ]
  },
  {
   "cell_type": "markdown",
   "metadata": {},
   "source": [
    "## 6. Implementation"
   ]
  }
 ],
 "metadata": {
  "kernelspec": {
   "display_name": "Python 3",
   "language": "python",
   "name": "python3"
  },
  "language_info": {
   "codemirror_mode": {
    "name": "ipython",
    "version": 3
   },
   "file_extension": ".py",
   "mimetype": "text/x-python",
   "name": "python",
   "nbconvert_exporter": "python",
   "pygments_lexer": "ipython3",
   "version": "3.7.6"
  }
 },
 "nbformat": 4,
 "nbformat_minor": 4
}
